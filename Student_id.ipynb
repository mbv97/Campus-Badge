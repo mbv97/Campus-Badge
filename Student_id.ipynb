{
  "nbformat": 4,
  "nbformat_minor": 0,
  "metadata": {
    "kernelspec": {
      "display_name": "Python 3",
      "language": "python",
      "name": "python3"
    },
    "language_info": {
      "codemirror_mode": {
        "name": "ipython",
        "version": 3
      },
      "file_extension": ".py",
      "mimetype": "text/x-python",
      "name": "python",
      "nbconvert_exporter": "python",
      "pygments_lexer": "ipython3",
      "version": "3.7.3"
    },
    "colab": {
      "name": "Student id.ipynb",
      "version": "0.3.2",
      "provenance": []
    }
  },
  "cells": [
    {
      "cell_type": "code",
      "metadata": {
        "id": "NyG48oAkEGOQ",
        "colab_type": "code",
        "colab": {}
      },
      "source": [
        "import pandas as pd\n",
        "from pandas import ExcelWriter\n",
        "from pandas import ExcelFile\n",
        "df = pd.read_excel('data.xlsx')\n",
        "llist = df.values.tolist()"
      ],
      "execution_count": 0,
      "outputs": []
    },
    {
      "cell_type": "code",
      "metadata": {
        "id": "lfeW7vzcEGOK",
        "colab_type": "code",
        "colab": {}
      },
      "source": [
        "from docx import Document\n",
        "from docx.shared import Inches\n",
        "document = Document()\n",
        "table = document.add_table(1, 3)\n",
        "for first_name,last_name,SBU_ID in llist:\n",
        "    \n",
        "    table = document.add_table(3, 3)\n",
        "    cell1 = table.cell(0,1)\n",
        "    cell2 = table.cell(0,2)\n",
        "    cell3 = table.cell(1, 1)\n",
        "    cell1.text=first_name\n",
        "    cell2.text=last_name\n",
        "    cell3.text=str(SBU_ID)\n",
        "    document.add_page_break()\n",
        "document.save('Application.docx')"
      ],
      "execution_count": 0,
      "outputs": []
    }
  ]
}