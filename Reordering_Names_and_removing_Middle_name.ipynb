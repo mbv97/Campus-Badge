{
  "nbformat": 4,
  "nbformat_minor": 0,
  "metadata": {
    "colab": {
      "name": "Reordering Names and removing Middle name",
      "version": "0.3.2",
      "provenance": []
    },
    "kernelspec": {
      "name": "python3",
      "display_name": "Python 3"
    }
  },
  "cells": [
    {
      "cell_type": "code",
      "metadata": {
        "id": "LW2Ad1tZLvB_",
        "colab_type": "code",
        "colab": {}
      },
      "source": [
        "import pandas as pd\n",
        "from google.colab import files\n",
        "uploaded = files.upload()\n"
      ],
      "execution_count": 0,
      "outputs": []
    },
    {
      "cell_type": "code",
      "metadata": {
        "id": "6vfTF6XAGPTJ",
        "colab_type": "code",
        "colab": {}
      },
      "source": [
        "df = pd.read_excel('Group7&8.xlsx')\n",
        "df1 = df.iloc[:,3:4]\n",
        "df1\n",
        "topic=df1[\"HAN 383.08\"].tolist()\n",
        "for i in topic:\n",
        "  try:\n",
        "    last,first=i.split(\",\")\n",
        "    try:\n",
        "      first,middle=first.split()\n",
        "      print(first,last) \n",
        "    except:\n",
        "      print(first,last)\n",
        "  except:\n",
        "    print(i)\n",
        "\n"
      ],
      "execution_count": 0,
      "outputs": []
    }
  ]
}